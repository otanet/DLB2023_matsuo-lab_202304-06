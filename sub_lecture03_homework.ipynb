{
  "nbformat": 4,
  "nbformat_minor": 0,
  "metadata": {
    "colab": {
      "provenance": [],
      "include_colab_link": true
    },
    "kernelspec": {
      "display_name": "Python 3",
      "language": "python",
      "name": "python3"
    },
    "language_info": {
      "codemirror_mode": {
        "name": "ipython",
        "version": 3
      },
      "file_extension": ".py",
      "mimetype": "text/x-python",
      "name": "python",
      "nbconvert_exporter": "python",
      "pygments_lexer": "ipython3",
      "version": "3.6.2"
    },
    "gpuClass": "standard"
  },
  "cells": [
    {
      "cell_type": "markdown",
      "metadata": {
        "id": "view-in-github",
        "colab_type": "text"
      },
      "source": [
        "<a href=\"https://colab.research.google.com/github/otanet/DLB2023_matsuo-lab_202304-06/blob/main/sub_lecture03_homework.ipynb\" target=\"_parent\"><img src=\"https://colab.research.google.com/assets/colab-badge.svg\" alt=\"Open In Colab\"/></a>"
      ]
    },
    {
      "cell_type": "markdown",
      "metadata": {
        "id": "MUWcdth_khfN"
      },
      "source": [
        "# 第3回講義 宿題"
      ]
    },
    {
      "cell_type": "markdown",
      "metadata": {
        "id": "gAjuP7I4lWyn"
      },
      "source": [
        "## 課題\n",
        "\n",
        "今Lessonで学んだことを元に，MNISTのファッション版 (Fashion MNIST，クラス数10) を多層パーセプトロンによって分類してみましょう．\n",
        "\n",
        "Fashion MNISTの詳細については以下のリンクを参考にしてください．\n",
        "\n",
        "Fashion MNIST: https://github.com/zalandoresearch/fashion-mnist"
      ]
    },
    {
      "cell_type": "markdown",
      "metadata": {
        "id": "Cpiz19GRlZ_9"
      },
      "source": [
        "### 目標値\n",
        "\n",
        "Accuracy 85%"
      ]
    },
    {
      "cell_type": "markdown",
      "metadata": {
        "id": "qSHeI_utleEN"
      },
      "source": [
        "### ルール\n",
        "\n",
        "- 訓練データはx_train， t_train，テストデータはx_testで与えられます．\n",
        "- 予測ラベルは one_hot表現ではなく0~9のクラスラベル で表してください．\n",
        "- **下のセルで指定されているx_train，t_train以外の学習データは使わないでください．**\n",
        "- **多層パーセプトロンのアルゴリズム部分は第3回の演習を参考に，NumPyのみで実装してください．** (sklearnやtensorflowなどは使用しないでください)．\n",
        "    - データの前処理部分でsklearnの関数を使う (例えば sklearn.model_selection.train_test_split) のは問題ありません．"
      ]
    },
    {
      "cell_type": "markdown",
      "metadata": {
        "id": "diuec-_YluI6"
      },
      "source": [
        "### 提出方法\n",
        "\n",
        "- 2つのファイルを提出していただきます．\n",
        "  - テストデータ (x_test) に対する予測ラベルをcsvファイル (ファイル名: submission_pred.csv) で提出してください．\n",
        "  - それに対応するpythonのコードをsubmission_code.pyとして提出してください (%%writefileコマンドなどを利用してください)．"
      ]
    },
    {
      "cell_type": "markdown",
      "metadata": {
        "id": "hofSzJsVlvKp"
      },
      "source": [
        "### 評価方法\n",
        "\n",
        "- 予測ラベルのt_testに対する精度 (Accuracy) で評価します．\n",
        "- 提出後即時採点を行い，Leader Boardが更新されます．\n",
        "- 締切後の点数を最終的な評価とします．"
      ]
    },
    {
      "cell_type": "code",
      "source": [
        "# ドライブのマウント\n",
        "from google.colab import drive\n",
        "drive.mount('/content/drive')"
      ],
      "metadata": {
        "id": "bxtkyWpYv07M"
      },
      "execution_count": null,
      "outputs": []
    },
    {
      "cell_type": "markdown",
      "metadata": {
        "id": "Cu4cmQtelx19"
      },
      "source": [
        "### データの読み込み\n",
        "\n",
        "- この部分は修正しないでください"
      ]
    },
    {
      "cell_type": "code",
      "source": [
        "import os\n",
        "import numpy as np\n",
        "import pandas as pd\n",
        "from sklearn.utils import shuffle\n",
        "from sklearn.metrics import accuracy_score\n",
        "from sklearn.model_selection import train_test_split\n",
        "import inspect\n"
      ],
      "metadata": {
        "id": "Abu3tn_nGgvT"
      },
      "execution_count": 14,
      "outputs": []
    },
    {
      "cell_type": "code",
      "source": [
        "#学習データ\n",
        "x_train = np.load('/content/drive/MyDrive/Colab Notebooks/DLBasics2023_colab/Lecture02/data/x_train.npy')\n",
        "# x_train = np.load('drive/MyDrive/Colab Notebooks/DLBasics2023_colab/Lecture03/data/x_train.npy')\n",
        "t_train = np.load('/content/drive/MyDrive/Colab Notebooks/DLBasics2023_colab/Lecture02/data/y_train.npy')\n",
        "    \n",
        "#テストデータ\n",
        "x_test = np.load('/content/drive/MyDrive/Colab Notebooks/DLBasics2023_colab/Lecture02/data/x_test.npy')\n"
      ],
      "metadata": {
        "id": "8TeUw-W9GiV7"
      },
      "execution_count": 19,
      "outputs": []
    },
    {
      "cell_type": "code",
      "source": [
        "# データの前処理（正規化， one-hot encoding)\n",
        "x_train, x_test = x_train / 255., x_test / 255.\n",
        "x_train, x_test = x_train.reshape(x_train.shape[0], -1), x_test.reshape(x_test.shape[0], -1)\n",
        "t_train = np.eye(N=10)[t_train.astype(\"int32\").flatten()]"
      ],
      "metadata": {
        "id": "d7yXq0PwGm9b"
      },
      "execution_count": 20,
      "outputs": []
    },
    {
      "cell_type": "markdown",
      "metadata": {
        "id": "UrSpHDIWOfK_"
      },
      "source": [
        "### 多層パーセプトロンの実装"
      ]
    },
    {
      "cell_type": "code",
      "metadata": {
        "id": "sKAe0F36nSvU"
      },
      "source": [
        "# データの分割\n",
        "x_train, x_val, t_train, t_val =\\\n",
        "    train_test_split(x_train, t_train, test_size=10000)"
      ],
      "execution_count": 21,
      "outputs": []
    },
    {
      "cell_type": "code",
      "source": [
        "def np_log(x):\n",
        "    return np.log(np.clip(x, 1e-10, 1e+10))\n",
        "\n",
        "\n",
        "def create_batch(data, batch_size):\n",
        "    \"\"\"\n",
        "    :param data: np.ndarray，入力データ\n",
        "    :param batch_size: int，バッチサイズ\n",
        "    \"\"\"\n",
        "    num_batches, mod = divmod(data.shape[0], batch_size)\n",
        "    batched_data = np.split(data[: batch_size * num_batches], num_batches)\n",
        "    if mod:\n",
        "        batched_data.append(data[batch_size * num_batches:])\n",
        "\n",
        "    return batched_data"
      ],
      "metadata": {
        "id": "IlzwRoG5X7ZP"
      },
      "execution_count": 22,
      "outputs": []
    },
    {
      "cell_type": "code",
      "source": [
        "# シード値を変えることで何が起きるかも確かめてみてください．\n",
        "rng = np.random.RandomState(1234)\n",
        "random_state = 42\n",
        "\n",
        "\n",
        "# 発展: 今回の講義で扱っていない活性化関数について調べ，実装してみましょう\n",
        "def relu(x):\n",
        "    return np.maximum(0, x)\n",
        "\n",
        "\n",
        "def deriv_relu(x):\n",
        "    return np.where(x <= 0, 0, 1)\n",
        "\n",
        "\n",
        "def softmax(x):\n",
        "    exp_x = np.exp(x - np.max(x, axis=1, keepdims=True))\n",
        "    return exp_x / np.sum(exp_x, axis=1, keepdims=True)\n",
        "\n",
        "\n",
        "def deriv_softmax(x):\n",
        "    p = softmax(x)\n",
        "    return p * (1 - p)\n",
        "\n",
        "\n",
        "def crossentropy_loss(t, y):\n",
        "    return -np.sum(t * np.log(y)) / t.shape[0]\n",
        "\n",
        "\n",
        "class Dense:\n",
        "    def __init__(self, in_dim, out_dim, function, deriv_function):\n",
        "        self.W = rng.normal(scale=0.1, size=(in_dim, out_dim))\n",
        "        self.b = np.zeros((out_dim,))\n",
        "        self.function = function\n",
        "        self.deriv_function = deriv_function\n",
        "\n",
        "    def __call__(self, x):\n",
        "        return self.function(x @ self.W + self.b)\n",
        "\n",
        "    def bprop(self, x, delta):\n",
        "        delta = self.deriv_function(self(x)) * delta\n",
        "        grad_W = x.T @ delta\n",
        "        grad_b = np.sum(delta, axis=0)\n",
        "        delta = delta @ self.W.T\n",
        "        return delta, grad_W, grad_b\n",
        "\n",
        "\n",
        "class Model:\n",
        "    def __init__(self, layers):\n",
        "        self.layers = layers\n",
        "\n",
        "    def __call__(self, x):\n",
        "        for layer in self.layers:\n",
        "            x = layer(x)\n",
        "        return x\n",
        "\n",
        "    def train(self, x, t, lr):\n",
        "        batched_x = create_batch(x, batch_size)\n",
        "        batched_t = create_batch(t, batch_size)\n",
        "\n",
        "        for i in range(len(batched_x)):\n",
        "            x_batch = batched_x[i]\n",
        "            t_batch = batched_t[i]\n",
        "            y = self(x_batch)\n",
        "            delta = (y - t_batch) / batch_size\n",
        "            for layer in reversed(self.layers):\n",
        "                delta, grad_W, grad_b = layer.bprop(layer(x_batch), delta)\n",
        "                layer.W -= lr * grad_W\n",
        "                layer.b -= lr * grad_b\n",
        "\n",
        "    def test(self, x):\n",
        "        y = self(x)\n",
        "        return np.argmax(y, axis=1)\n",
        "\n",
        "\n",
        "lr = 0.1\n",
        "n_epochs = 100\n",
        "batch_size = 100\n",
        "\n",
        "mlp = Model([\n",
        "    Dense(784, 200, relu, deriv_relu),\n",
        "    Dense(200, 10, softmax, deriv_softmax)\n",
        "])\n"
      ],
      "metadata": {
        "id": "wAc6FtwbJyjV"
      },
      "execution_count": 29,
      "outputs": []
    },
    {
      "cell_type": "markdown",
      "source": [
        "### モデルの学習"
      ],
      "metadata": {
        "id": "I1IXxVHfT9O9"
      }
    },
    {
      "cell_type": "code",
      "source": [
        "def train_model(mlp, x_train, t_train, x_val, t_val, n_epochs=10):\n",
        "    for epoch in range(n_epochs):\n",
        "        losses_train = []\n",
        "        losses_valid = []\n",
        "        train_num = 0\n",
        "        train_true_num = 0\n",
        "        valid_num = 0\n",
        "        valid_true_num = 0\n",
        "\n",
        "        x_train, t_train = shuffle(x_train, t_train)\n",
        "        x_train_batches, t_train_batches = create_batch(x_train, batch_size), create_batch(t_train, batch_size)\n",
        "\n",
        "        x_val, t_val = shuffle(x_val, t_val)\n",
        "        x_val_batches, t_val_batches = create_batch(x_val, batch_size), create_batch(t_val, batch_size)\n",
        "\n",
        "        # モデルの訓練\n",
        "        for x, t in zip(x_train_batches, t_train_batches):\n",
        "            # 順伝播\n",
        "            y = mlp.forward(x) # WRITE ME\n",
        "\n",
        "            # 損失の計算\n",
        "            loss = mlp.compute_loss(y, t) # WRITE ME     \n",
        "            losses_train.append(loss.tolist())\n",
        "\n",
        "            # パラメータの更新\n",
        "            mlp.backward(loss)\n",
        "            mlp.update_params() # WRITE ME\n",
        "\n",
        "            # 精度を計算\n",
        "            acc = accuracy_score(t.argmax(axis=1), y.argmax(axis=1), normalize=False)\n",
        "            train_num += x.shape[0]\n",
        "            train_true_num += acc\n",
        "\n",
        "        # モデルの評価\n",
        "        for x, t in zip(x_val_batches, t_val_batches):\n",
        "            # 順伝播\n",
        "            y = mlp.forward(x) # WRITE ME\n",
        "\n",
        "            # 損失の計算\n",
        "            loss = mlp.compute_loss(y, t) # WRITE ME\n",
        "            losses_valid.append(loss.tolist())\n",
        "\n",
        "            acc = accuracy_score(t.argmax(axis=1), y.argmax(axis=1), normalize=False)\n",
        "            valid_num += x.shape[0]\n",
        "            valid_true_num += acc.sum().item()\n",
        "\n",
        "        print('EPOCH: {}, Train [Loss: {:.3f}, Accuracy: {:.3f}], Valid [Loss: {:.3f}, Accuracy: {:.3f}]'.format(\n",
        "            epoch,\n",
        "            np.mean(losses_train),\n",
        "            train_true_num/train_num,\n",
        "            np.mean(losses_valid),\n",
        "            valid_true_num/valid_num\n",
        "        ))\n"
      ],
      "metadata": {
        "id": "c9E1fIXKL23c"
      },
      "execution_count": 35,
      "outputs": []
    },
    {
      "cell_type": "code",
      "source": [
        "t_pred = []\n",
        "for x in x_test:\n",
        "    # 順伝播\n",
        "    x = x[np.newaxis, :]\n",
        "    y = mlp(x)\n",
        "\n",
        "    # モデルの出力を予測値のスカラーに変換\n",
        "    pred = y.argmax(1).tolist()\n",
        "\n",
        "    t_pred.extend(pred)\n",
        "\n",
        "submission = pd.Series(t_pred, name='label')\n",
        "submission.to_csv('/submission_pred.csv', header=True, index_label='id')"
      ],
      "metadata": {
        "id": "wu95z6jkMdYt"
      },
      "execution_count": 41,
      "outputs": []
    },
    {
      "cell_type": "code",
      "source": [],
      "metadata": {
        "id": "Od8w-Sn0rJ98"
      },
      "execution_count": null,
      "outputs": []
    }
  ]
}